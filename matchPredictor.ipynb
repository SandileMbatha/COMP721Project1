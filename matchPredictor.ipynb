{
  "nbformat": 4,
  "nbformat_minor": 0,
  "metadata": {
    "colab": {
      "name": "matchPredictor.ipynb",
      "provenance": [],
      "include_colab_link": true
    },
    "kernelspec": {
      "name": "python3",
      "display_name": "Python 3"
    }
  },
  "cells": [
    {
      "cell_type": "markdown",
      "metadata": {
        "id": "view-in-github",
        "colab_type": "text"
      },
      "source": [
        "<a href=\"https://colab.research.google.com/github/SandileMbatha/COMP721Project1/blob/main/matchPredictor.ipynb\" target=\"_parent\"><img src=\"https://colab.research.google.com/assets/colab-badge.svg\" alt=\"Open In Colab\"/></a>"
      ]
    },
    {
      "cell_type": "code",
      "metadata": {
        "id": "4VsQ_AFWp_TX"
      },
      "source": [
        "import pandas as pd\r\n",
        "import matplotlib.pyplot as plt\r\n",
        "import seaborn as sns\r\n",
        "%matplotlib inline\r\n",
        "import numpy as np \r\n",
        "from sklearn import svm\r\n",
        "from sklearn.svm import OneClassSVM\r\n",
        "from sklearn.svm import LinearSVC\r\n",
        "from sklearn.neighbors import KNeighborsClassifier\r\n",
        "from sklearn.model_selection import train_test_split\r\n",
        "from sklearn import metrics\r\n",
        "from sklearn.model_selection import cross_val_score\r\n",
        "from sklearn import preprocessing\r\n",
        "from sklearn.feature_selection import RFE\r\n",
        "from sklearn.ensemble import RandomForestClassifier\r\n",
        "from sklearn.ensemble import GradientBoostingClassifier\r\n",
        "import graphviz\r\n",
        "from sklearn import tree\r\n",
        "import warnings\r\n",
        "warnings.filterwarnings('ignore')\r\n",
        "import pickle"
      ],
      "execution_count": null,
      "outputs": []
    },
    {
      "cell_type": "code",
      "metadata": {
        "colab": {
          "base_uri": "https://localhost:8080/",
          "height": 439
        },
        "id": "gTdnuE4HrKcv",
        "outputId": "d3fb0983-1490-419f-bfde-c4763633e25a"
      },
      "source": [
        "df = pd.read_excel('/content/drive/MyDrive/NBA_dataset/team_season.xlsx')\r\n",
        "df = df[df['year'] < 2003]\r\n",
        "df"
      ],
      "execution_count": null,
      "outputs": [
        {
          "output_type": "execute_result",
          "data": {
            "text/html": [
              "<div>\n",
              "<style scoped>\n",
              "    .dataframe tbody tr th:only-of-type {\n",
              "        vertical-align: middle;\n",
              "    }\n",
              "\n",
              "    .dataframe tbody tr th {\n",
              "        vertical-align: top;\n",
              "    }\n",
              "\n",
              "    .dataframe thead th {\n",
              "        text-align: right;\n",
              "    }\n",
              "</style>\n",
              "<table border=\"1\" class=\"dataframe\">\n",
              "  <thead>\n",
              "    <tr style=\"text-align: right;\">\n",
              "      <th></th>\n",
              "      <th>team</th>\n",
              "      <th>year</th>\n",
              "      <th>leag</th>\n",
              "      <th>o_fgm</th>\n",
              "      <th>o_fga</th>\n",
              "      <th>o_ftm</th>\n",
              "      <th>o_fta</th>\n",
              "      <th>o_oreb</th>\n",
              "      <th>o_dreb</th>\n",
              "      <th>o_reb</th>\n",
              "      <th>o_asts</th>\n",
              "      <th>o_pf</th>\n",
              "      <th>o_stl</th>\n",
              "      <th>o_to</th>\n",
              "      <th>o_blk</th>\n",
              "      <th>o_3pm</th>\n",
              "      <th>o_3pa</th>\n",
              "      <th>o_pts</th>\n",
              "      <th>d_fgm</th>\n",
              "      <th>d_fga</th>\n",
              "      <th>d_ftm</th>\n",
              "      <th>d_fta</th>\n",
              "      <th>d_oreb</th>\n",
              "      <th>d_dreb</th>\n",
              "      <th>d_reb</th>\n",
              "      <th>d_asts</th>\n",
              "      <th>d_pf</th>\n",
              "      <th>d_stl</th>\n",
              "      <th>d_to</th>\n",
              "      <th>d_blk</th>\n",
              "      <th>d_3pm</th>\n",
              "      <th>d_3pa</th>\n",
              "      <th>d_pts</th>\n",
              "      <th>pace</th>\n",
              "      <th>won</th>\n",
              "      <th>lost</th>\n",
              "    </tr>\n",
              "  </thead>\n",
              "  <tbody>\n",
              "    <tr>\n",
              "      <th>0</th>\n",
              "      <td>BOS</td>\n",
              "      <td>1946</td>\n",
              "      <td>N</td>\n",
              "      <td>1397</td>\n",
              "      <td>5133</td>\n",
              "      <td>811</td>\n",
              "      <td>1375</td>\n",
              "      <td>0</td>\n",
              "      <td>0</td>\n",
              "      <td>0</td>\n",
              "      <td>470</td>\n",
              "      <td>1202</td>\n",
              "      <td>0</td>\n",
              "      <td>0</td>\n",
              "      <td>0</td>\n",
              "      <td>0</td>\n",
              "      <td>0</td>\n",
              "      <td>3605</td>\n",
              "      <td>0</td>\n",
              "      <td>0</td>\n",
              "      <td>0</td>\n",
              "      <td>0</td>\n",
              "      <td>0</td>\n",
              "      <td>0</td>\n",
              "      <td>0</td>\n",
              "      <td>0</td>\n",
              "      <td>0</td>\n",
              "      <td>0</td>\n",
              "      <td>0</td>\n",
              "      <td>0</td>\n",
              "      <td>0</td>\n",
              "      <td>0</td>\n",
              "      <td>3900</td>\n",
              "      <td>0.000000</td>\n",
              "      <td>22</td>\n",
              "      <td>38</td>\n",
              "    </tr>\n",
              "    <tr>\n",
              "      <th>1</th>\n",
              "      <td>CH1</td>\n",
              "      <td>1946</td>\n",
              "      <td>N</td>\n",
              "      <td>1879</td>\n",
              "      <td>6309</td>\n",
              "      <td>939</td>\n",
              "      <td>1550</td>\n",
              "      <td>0</td>\n",
              "      <td>0</td>\n",
              "      <td>0</td>\n",
              "      <td>436</td>\n",
              "      <td>1473</td>\n",
              "      <td>0</td>\n",
              "      <td>0</td>\n",
              "      <td>0</td>\n",
              "      <td>0</td>\n",
              "      <td>0</td>\n",
              "      <td>4697</td>\n",
              "      <td>0</td>\n",
              "      <td>0</td>\n",
              "      <td>0</td>\n",
              "      <td>0</td>\n",
              "      <td>0</td>\n",
              "      <td>0</td>\n",
              "      <td>0</td>\n",
              "      <td>0</td>\n",
              "      <td>0</td>\n",
              "      <td>0</td>\n",
              "      <td>0</td>\n",
              "      <td>0</td>\n",
              "      <td>0</td>\n",
              "      <td>0</td>\n",
              "      <td>4471</td>\n",
              "      <td>0.000000</td>\n",
              "      <td>39</td>\n",
              "      <td>22</td>\n",
              "    </tr>\n",
              "    <tr>\n",
              "      <th>2</th>\n",
              "      <td>CL1</td>\n",
              "      <td>1946</td>\n",
              "      <td>N</td>\n",
              "      <td>1674</td>\n",
              "      <td>5699</td>\n",
              "      <td>903</td>\n",
              "      <td>1428</td>\n",
              "      <td>0</td>\n",
              "      <td>0</td>\n",
              "      <td>0</td>\n",
              "      <td>494</td>\n",
              "      <td>1246</td>\n",
              "      <td>0</td>\n",
              "      <td>0</td>\n",
              "      <td>0</td>\n",
              "      <td>0</td>\n",
              "      <td>0</td>\n",
              "      <td>4251</td>\n",
              "      <td>0</td>\n",
              "      <td>0</td>\n",
              "      <td>0</td>\n",
              "      <td>0</td>\n",
              "      <td>0</td>\n",
              "      <td>0</td>\n",
              "      <td>0</td>\n",
              "      <td>0</td>\n",
              "      <td>0</td>\n",
              "      <td>0</td>\n",
              "      <td>0</td>\n",
              "      <td>0</td>\n",
              "      <td>0</td>\n",
              "      <td>0</td>\n",
              "      <td>4308</td>\n",
              "      <td>0.000000</td>\n",
              "      <td>30</td>\n",
              "      <td>30</td>\n",
              "    </tr>\n",
              "    <tr>\n",
              "      <th>3</th>\n",
              "      <td>DE1</td>\n",
              "      <td>1946</td>\n",
              "      <td>N</td>\n",
              "      <td>1437</td>\n",
              "      <td>5843</td>\n",
              "      <td>923</td>\n",
              "      <td>1494</td>\n",
              "      <td>0</td>\n",
              "      <td>0</td>\n",
              "      <td>0</td>\n",
              "      <td>482</td>\n",
              "      <td>1351</td>\n",
              "      <td>0</td>\n",
              "      <td>0</td>\n",
              "      <td>0</td>\n",
              "      <td>0</td>\n",
              "      <td>0</td>\n",
              "      <td>3797</td>\n",
              "      <td>0</td>\n",
              "      <td>0</td>\n",
              "      <td>0</td>\n",
              "      <td>0</td>\n",
              "      <td>0</td>\n",
              "      <td>0</td>\n",
              "      <td>0</td>\n",
              "      <td>0</td>\n",
              "      <td>0</td>\n",
              "      <td>0</td>\n",
              "      <td>0</td>\n",
              "      <td>0</td>\n",
              "      <td>0</td>\n",
              "      <td>0</td>\n",
              "      <td>3918</td>\n",
              "      <td>0.000000</td>\n",
              "      <td>20</td>\n",
              "      <td>40</td>\n",
              "    </tr>\n",
              "    <tr>\n",
              "      <th>4</th>\n",
              "      <td>NYK</td>\n",
              "      <td>1946</td>\n",
              "      <td>N</td>\n",
              "      <td>1465</td>\n",
              "      <td>5255</td>\n",
              "      <td>951</td>\n",
              "      <td>1438</td>\n",
              "      <td>0</td>\n",
              "      <td>0</td>\n",
              "      <td>0</td>\n",
              "      <td>457</td>\n",
              "      <td>1218</td>\n",
              "      <td>0</td>\n",
              "      <td>0</td>\n",
              "      <td>0</td>\n",
              "      <td>0</td>\n",
              "      <td>0</td>\n",
              "      <td>3881</td>\n",
              "      <td>0</td>\n",
              "      <td>0</td>\n",
              "      <td>0</td>\n",
              "      <td>0</td>\n",
              "      <td>0</td>\n",
              "      <td>0</td>\n",
              "      <td>0</td>\n",
              "      <td>0</td>\n",
              "      <td>0</td>\n",
              "      <td>0</td>\n",
              "      <td>0</td>\n",
              "      <td>0</td>\n",
              "      <td>0</td>\n",
              "      <td>0</td>\n",
              "      <td>3840</td>\n",
              "      <td>0.000000</td>\n",
              "      <td>33</td>\n",
              "      <td>27</td>\n",
              "    </tr>\n",
              "    <tr>\n",
              "      <th>...</th>\n",
              "      <td>...</td>\n",
              "      <td>...</td>\n",
              "      <td>...</td>\n",
              "      <td>...</td>\n",
              "      <td>...</td>\n",
              "      <td>...</td>\n",
              "      <td>...</td>\n",
              "      <td>...</td>\n",
              "      <td>...</td>\n",
              "      <td>...</td>\n",
              "      <td>...</td>\n",
              "      <td>...</td>\n",
              "      <td>...</td>\n",
              "      <td>...</td>\n",
              "      <td>...</td>\n",
              "      <td>...</td>\n",
              "      <td>...</td>\n",
              "      <td>...</td>\n",
              "      <td>...</td>\n",
              "      <td>...</td>\n",
              "      <td>...</td>\n",
              "      <td>...</td>\n",
              "      <td>...</td>\n",
              "      <td>...</td>\n",
              "      <td>...</td>\n",
              "      <td>...</td>\n",
              "      <td>...</td>\n",
              "      <td>...</td>\n",
              "      <td>...</td>\n",
              "      <td>...</td>\n",
              "      <td>...</td>\n",
              "      <td>...</td>\n",
              "      <td>...</td>\n",
              "      <td>...</td>\n",
              "      <td>...</td>\n",
              "      <td>...</td>\n",
              "    </tr>\n",
              "    <tr>\n",
              "      <th>1123</th>\n",
              "      <td>SAS</td>\n",
              "      <td>2002</td>\n",
              "      <td>N</td>\n",
              "      <td>2908</td>\n",
              "      <td>6297</td>\n",
              "      <td>1591</td>\n",
              "      <td>2194</td>\n",
              "      <td>939</td>\n",
              "      <td>2556</td>\n",
              "      <td>3495</td>\n",
              "      <td>1636</td>\n",
              "      <td>1672</td>\n",
              "      <td>629</td>\n",
              "      <td>1260</td>\n",
              "      <td>529</td>\n",
              "      <td>449</td>\n",
              "      <td>1270</td>\n",
              "      <td>7856</td>\n",
              "      <td>2862</td>\n",
              "      <td>6703</td>\n",
              "      <td>1334</td>\n",
              "      <td>1737</td>\n",
              "      <td>1029</td>\n",
              "      <td>2322</td>\n",
              "      <td>3351</td>\n",
              "      <td>1559</td>\n",
              "      <td>1914</td>\n",
              "      <td>665</td>\n",
              "      <td>1177</td>\n",
              "      <td>422</td>\n",
              "      <td>354</td>\n",
              "      <td>1043</td>\n",
              "      <td>7412</td>\n",
              "      <td>91.857811</td>\n",
              "      <td>60</td>\n",
              "      <td>22</td>\n",
              "    </tr>\n",
              "    <tr>\n",
              "      <th>1124</th>\n",
              "      <td>SEA</td>\n",
              "      <td>2002</td>\n",
              "      <td>N</td>\n",
              "      <td>2887</td>\n",
              "      <td>6599</td>\n",
              "      <td>1325</td>\n",
              "      <td>1780</td>\n",
              "      <td>963</td>\n",
              "      <td>2385</td>\n",
              "      <td>3348</td>\n",
              "      <td>1775</td>\n",
              "      <td>1713</td>\n",
              "      <td>679</td>\n",
              "      <td>1026</td>\n",
              "      <td>295</td>\n",
              "      <td>456</td>\n",
              "      <td>1291</td>\n",
              "      <td>7555</td>\n",
              "      <td>2871</td>\n",
              "      <td>6424</td>\n",
              "      <td>1351</td>\n",
              "      <td>1821</td>\n",
              "      <td>938</td>\n",
              "      <td>2462</td>\n",
              "      <td>3400</td>\n",
              "      <td>1703</td>\n",
              "      <td>1671</td>\n",
              "      <td>500</td>\n",
              "      <td>1158</td>\n",
              "      <td>410</td>\n",
              "      <td>472</td>\n",
              "      <td>1371</td>\n",
              "      <td>7565</td>\n",
              "      <td>89.995102</td>\n",
              "      <td>40</td>\n",
              "      <td>42</td>\n",
              "    </tr>\n",
              "    <tr>\n",
              "      <th>1125</th>\n",
              "      <td>TOR</td>\n",
              "      <td>2002</td>\n",
              "      <td>N</td>\n",
              "      <td>2847</td>\n",
              "      <td>6664</td>\n",
              "      <td>1350</td>\n",
              "      <td>1879</td>\n",
              "      <td>1023</td>\n",
              "      <td>2355</td>\n",
              "      <td>3378</td>\n",
              "      <td>1583</td>\n",
              "      <td>1761</td>\n",
              "      <td>609</td>\n",
              "      <td>1106</td>\n",
              "      <td>392</td>\n",
              "      <td>409</td>\n",
              "      <td>1193</td>\n",
              "      <td>7453</td>\n",
              "      <td>3037</td>\n",
              "      <td>6592</td>\n",
              "      <td>1490</td>\n",
              "      <td>1964</td>\n",
              "      <td>976</td>\n",
              "      <td>2601</td>\n",
              "      <td>3577</td>\n",
              "      <td>1729</td>\n",
              "      <td>1701</td>\n",
              "      <td>604</td>\n",
              "      <td>1079</td>\n",
              "      <td>403</td>\n",
              "      <td>370</td>\n",
              "      <td>986</td>\n",
              "      <td>7934</td>\n",
              "      <td>91.460609</td>\n",
              "      <td>24</td>\n",
              "      <td>58</td>\n",
              "    </tr>\n",
              "    <tr>\n",
              "      <th>1126</th>\n",
              "      <td>UTA</td>\n",
              "      <td>2002</td>\n",
              "      <td>N</td>\n",
              "      <td>2894</td>\n",
              "      <td>6189</td>\n",
              "      <td>1750</td>\n",
              "      <td>2349</td>\n",
              "      <td>1021</td>\n",
              "      <td>2381</td>\n",
              "      <td>3402</td>\n",
              "      <td>2103</td>\n",
              "      <td>1837</td>\n",
              "      <td>708</td>\n",
              "      <td>1304</td>\n",
              "      <td>467</td>\n",
              "      <td>224</td>\n",
              "      <td>641</td>\n",
              "      <td>7762</td>\n",
              "      <td>2751</td>\n",
              "      <td>6346</td>\n",
              "      <td>1627</td>\n",
              "      <td>2143</td>\n",
              "      <td>1011</td>\n",
              "      <td>2120</td>\n",
              "      <td>3131</td>\n",
              "      <td>1601</td>\n",
              "      <td>1950</td>\n",
              "      <td>723</td>\n",
              "      <td>1253</td>\n",
              "      <td>429</td>\n",
              "      <td>437</td>\n",
              "      <td>1251</td>\n",
              "      <td>7566</td>\n",
              "      <td>90.877747</td>\n",
              "      <td>47</td>\n",
              "      <td>35</td>\n",
              "    </tr>\n",
              "    <tr>\n",
              "      <th>1127</th>\n",
              "      <td>WAS</td>\n",
              "      <td>2002</td>\n",
              "      <td>N</td>\n",
              "      <td>2816</td>\n",
              "      <td>6394</td>\n",
              "      <td>1617</td>\n",
              "      <td>2077</td>\n",
              "      <td>917</td>\n",
              "      <td>2395</td>\n",
              "      <td>3312</td>\n",
              "      <td>1612</td>\n",
              "      <td>1644</td>\n",
              "      <td>621</td>\n",
              "      <td>1035</td>\n",
              "      <td>390</td>\n",
              "      <td>253</td>\n",
              "      <td>811</td>\n",
              "      <td>7502</td>\n",
              "      <td>2877</td>\n",
              "      <td>6507</td>\n",
              "      <td>1382</td>\n",
              "      <td>1792</td>\n",
              "      <td>949</td>\n",
              "      <td>2447</td>\n",
              "      <td>3396</td>\n",
              "      <td>1776</td>\n",
              "      <td>1804</td>\n",
              "      <td>612</td>\n",
              "      <td>1112</td>\n",
              "      <td>346</td>\n",
              "      <td>449</td>\n",
              "      <td>1242</td>\n",
              "      <td>7585</td>\n",
              "      <td>89.958359</td>\n",
              "      <td>37</td>\n",
              "      <td>45</td>\n",
              "    </tr>\n",
              "  </tbody>\n",
              "</table>\n",
              "<p>1128 rows × 36 columns</p>\n",
              "</div>"
            ],
            "text/plain": [
              "     team  year leag  o_fgm  o_fga  ...  d_3pa  d_pts       pace  won  lost\n",
              "0     BOS  1946    N   1397   5133  ...      0   3900   0.000000   22    38\n",
              "1     CH1  1946    N   1879   6309  ...      0   4471   0.000000   39    22\n",
              "2     CL1  1946    N   1674   5699  ...      0   4308   0.000000   30    30\n",
              "3     DE1  1946    N   1437   5843  ...      0   3918   0.000000   20    40\n",
              "4     NYK  1946    N   1465   5255  ...      0   3840   0.000000   33    27\n",
              "...   ...   ...  ...    ...    ...  ...    ...    ...        ...  ...   ...\n",
              "1123  SAS  2002    N   2908   6297  ...   1043   7412  91.857811   60    22\n",
              "1124  SEA  2002    N   2887   6599  ...   1371   7565  89.995102   40    42\n",
              "1125  TOR  2002    N   2847   6664  ...    986   7934  91.460609   24    58\n",
              "1126  UTA  2002    N   2894   6189  ...   1251   7566  90.877747   47    35\n",
              "1127  WAS  2002    N   2816   6394  ...   1242   7585  89.958359   37    45\n",
              "\n",
              "[1128 rows x 36 columns]"
            ]
          },
          "metadata": {
            "tags": []
          },
          "execution_count": 28
        }
      ]
    },
    {
      "cell_type": "code",
      "metadata": {
        "id": "a4KTEG5w0YSN",
        "colab": {
          "base_uri": "https://localhost:8080/"
        },
        "outputId": "e7b80cc1-ea76-4edf-9595-fd216752da97"
      },
      "source": [
        "from google.colab import drive\n",
        "drive.mount('/content/drive')"
      ],
      "execution_count": null,
      "outputs": [
        {
          "output_type": "stream",
          "text": [
            "Drive already mounted at /content/drive; to attempt to forcibly remount, call drive.mount(\"/content/drive\", force_remount=True).\n"
          ],
          "name": "stdout"
        }
      ]
    },
    {
      "cell_type": "code",
      "metadata": {
        "colab": {
          "base_uri": "https://localhost:8080/"
        },
        "id": "RpGV_gDXr9CI",
        "outputId": "49c530d4-a43e-43fe-87c9-6d41dc5df982"
      },
      "source": [
        "# prepare x and y\r\n",
        "\r\n",
        "feature_cols = ['o_fgm','o_fga','o_ftm','o_fta','o_oreb','o_dreb','o_reb','o_asts','o_pf','o_stl','o_to','o_blk','o_3pm','o_3pa','o_pts','d_fgm','d_fga','d_ftm','d_fta','d_oreb','d_dreb','d_reb','d_asts','d_pf','d_stl','d_to','d_3pm','d_3pa','d_pts','pace','lost']\r\n",
        "               \r\n",
        "X = df[feature_cols]\r\n",
        "y = df['team']\r\n",
        "#x = X.replace(0, df.mean())\r\n",
        "y\r\n"
      ],
      "execution_count": null,
      "outputs": [
        {
          "output_type": "execute_result",
          "data": {
            "text/plain": [
              "0       BOS\n",
              "1       CH1\n",
              "2       CL1\n",
              "3       DE1\n",
              "4       NYK\n",
              "       ... \n",
              "1123    SAS\n",
              "1124    SEA\n",
              "1125    TOR\n",
              "1126    UTA\n",
              "1127    WAS\n",
              "Name: team, Length: 1128, dtype: object"
            ]
          },
          "metadata": {
            "tags": []
          },
          "execution_count": 30
        }
      ]
    },
    {
      "cell_type": "code",
      "metadata": {
        "colab": {
          "base_uri": "https://localhost:8080/",
          "height": 374
        },
        "id": "vM_wMI0X-BHq",
        "outputId": "9c97559c-17ae-4807-fddc-eba1706b5083"
      },
      "source": [
        "feature_col = ['team','o_pts','d_pts']\r\n",
        "sns.pairplot(df[feature_col], size=2.5)\r\n",
        "plt.show()"
      ],
      "execution_count": null,
      "outputs": [
        {
          "output_type": "display_data",
          "data": {
            "image/png": "[encoded data removed]",
            "text/plain": [
              "<Figure size 360x360 with 6 Axes>"
            ]
          },
          "metadata": {
            "tags": [],
            "needs_background": "light"
          }
        }
      ]
    },
    {
      "cell_type": "code",
      "metadata": {
        "id": "-0hLvSheym73"
      },
      "source": [
        "#train test split, standardize data\r\n",
        "\r\n",
        "x_train, x_test, y_train, y_test = train_test_split(X, y , test_size=0.20, random_state=0)"
      ],
      "execution_count": null,
      "outputs": []
    },
    {
      "cell_type": "markdown",
      "metadata": {
        "id": "X40Xx18m7qcb"
      },
      "source": [
        "**Feature Scaling**"
      ]
    },
    {
      "cell_type": "code",
      "metadata": {
        "id": "SK3tUhJy7n2k"
      },
      "source": [
        "from sklearn.preprocessing import StandardScaler\r\n",
        "scaler = StandardScaler()\r\n",
        "scaler.fit(x_train)\r\n",
        "x_train = scaler.transform(x_train)\r\n",
        "x_test = scaler.transform(x_test)"
      ],
      "execution_count": null,
      "outputs": []
    },
    {
      "cell_type": "code",
      "metadata": {
        "colab": {
          "base_uri": "https://localhost:8080/",
          "height": 295
        },
        "id": "JFdbh1biz8gb",
        "outputId": "10d105c2-c850-4100-8aca-4010589e4d9f"
      },
      "source": [
        "from sklearn.neighbors import KNeighborsClassifier\r\n",
        "error = []\r\n",
        "for i in range(1, 20):\r\n",
        "    knn = KNeighborsClassifier(n_neighbors=i)\r\n",
        "    knn.fit(x_train, y_train)\r\n",
        "    pred_i = knn.predict(x_test)\r\n",
        "    #pred_i=pred_i.reshape(len(y_test),1)\r\n",
        "    error.append(np.mean(pred_i != y_test))\r\n",
        "   \r\n",
        "plt.title('The Error Rate vs K Value to find K-value for colors')\r\n",
        "plt.xlabel('K Value')\r\n",
        "plt.ylabel('Mean Error')\r\n",
        "plt.plot(range(1, 20), error, color='red', linestyle='dashed', marker='.',\r\n",
        "         markerfacecolor='blue', markersize=10)\r\n",
        "plt.savefig('Error_rate_vs_K_for_c_only.png')\r\n",
        "plt.show()\r\n"
      ],
      "execution_count": null,
      "outputs": [
        {
          "output_type": "display_data",
          "data": {
            "image/png": "[encoded data removed]",
            "text/plain": [
              "<Figure size 432x288 with 1 Axes>"
            ]
          },
          "metadata": {
            "tags": [],
            "needs_background": "light"
          }
        }
      ]
    },
    {
      "cell_type": "code",
      "metadata": {
        "colab": {
          "base_uri": "https://localhost:8080/"
        },
        "id": "IwMw5FGxysku",
        "outputId": "eb321726-e46e-46c2-a021-71c8507babcd"
      },
      "source": [
        "#knn \r\n",
        "\r\n",
        "knn = KNeighborsClassifier(n_neighbors=6)\r\n",
        "knn.fit(x_train, y_train)\r\n",
        "pred = knn.predict(x_test)\r\n",
        "print(metrics.accuracy_score(y_test, pred))\r\n",
        "print(knn.predict_proba(x_test))"
      ],
      "execution_count": null,
      "outputs": [
        {
          "output_type": "stream",
          "text": [
            "0.23008849557522124\n",
            "[[0.         0.16666667 0.         ... 0.         0.         0.        ]\n",
            " [0.         0.         0.         ... 0.         0.         0.        ]\n",
            " [0.         0.16666667 0.         ... 0.         0.         0.        ]\n",
            " ...\n",
            " [0.         0.16666667 0.         ... 0.         0.         0.        ]\n",
            " [0.         0.         0.         ... 0.         0.         0.        ]\n",
            " [0.         0.         0.         ... 0.         0.         0.        ]]\n"
          ],
          "name": "stdout"
        }
      ]
    },
    {
      "cell_type": "code",
      "metadata": {
        "colab": {
          "base_uri": "https://localhost:8080/"
        },
        "id": "0j82R2n_zluX",
        "outputId": "53a45d01-d7f4-47d2-bca5-750aca302c75"
      },
      "source": [
        "#linear svm\r\n",
        "\r\n",
        "clf = LinearSVC(random_state=2)\r\n",
        "clf.fit(x_train, y_train)\r\n",
        "#print(clf.coef_)\r\n",
        "#print(clf.intercept_)\r\n",
        "pred = (clf.predict(x_test))\r\n",
        "print(\"Prediction \",pred)\r\n",
        "print(\"Accuracy \",metrics.accuracy_score(y_test, pred))"
      ],
      "execution_count": null,
      "outputs": [
        {
          "output_type": "stream",
          "text": [
            "Prediction  ['CLE' 'GSW' 'CLE' 'TOR' 'WA1' 'LAL' 'HOU' 'PHO' 'DAL' 'PHO' 'BOS' 'SYR'\n",
            " 'DEN' 'PHO' 'BOS' 'BOS' 'PHO' 'SDC' 'PHO' 'MIL' 'NYK' 'SAS' 'LAC' 'CLE'\n",
            " 'SAS' 'NJN' 'MIL' 'CHI' 'DAL' 'HOU' 'DEN' 'PHI' 'POR' 'POR' 'POR' 'LAC'\n",
            " 'POR' 'NJN' 'BOS' 'LAL' 'CIN' 'NOB' 'BOS' 'ATL' 'HOU' 'GSW' 'KEN' 'NYK'\n",
            " 'BOS' 'LAL' 'BUF' 'DAL' 'BOS' 'DAL' 'POR' 'UTA' 'MIL' 'LAL' 'PRO' 'GSW'\n",
            " 'NYK' 'POR' 'SYR' 'CAR' 'MIN' 'DAL' 'HOU' 'UTA' 'WA1' 'NYK' 'STL' 'NYK'\n",
            " 'VAN' 'PHI' 'SDC' 'MIL' 'KEN' 'MIA' 'VIR' 'SYR' 'BOS' 'CHI' 'LAC' 'POR'\n",
            " 'CIN' 'CLE' 'CIN' 'MIN' 'CLE' 'MIL' 'LAL' 'UTS' 'UTA' 'SYR' 'CH1' 'BAL'\n",
            " 'MIA' 'CLE' 'SAS' 'CHA' 'WAS' 'PHO' 'CLE' 'UTS' 'CIN' 'KCK' 'KEN' 'CLE'\n",
            " 'NYK' 'ATL' 'HOU' 'DEN' 'DLC' 'SEA' 'CIN' 'HOU' 'NYK' 'UTA' 'KCK' 'NYK'\n",
            " 'UTA' 'NYK' 'WA1' 'BOS' 'WSC' 'PHO' 'GSW' 'MIL' 'MIL' 'PH1' 'KCK' 'DET'\n",
            " 'UTA' 'DET' 'CLE' 'LAC' 'GSW' 'CHA' 'DET' 'BUF' 'NYK' 'UTA' 'DEN' 'NOJ'\n",
            " 'PH1' 'VIR' 'NYK' 'BUF' 'MIA' 'SAS' 'ATL' 'PH1' 'NJN' 'BOS' 'NJN' 'BOS'\n",
            " 'PHI' 'UTA' 'LAL' 'UTA' 'PHI' 'PHO' 'CHA' 'PHI' 'MEM' 'LAL' 'PHO' 'DAL'\n",
            " 'SYR' 'DEN' 'LAL' 'MIN' 'MIA' 'HMV' 'MIL' 'PH1' 'LAL' 'POR' 'PHI' 'POR'\n",
            " 'DET' 'DET' 'POR' 'PHI' 'GSW' 'LAL' 'SYR' 'CHA' 'PH1' 'BOS' 'LAS' 'SYR'\n",
            " 'NJN' 'BAL' 'UTA' 'BOS' 'LAL' 'BAL' 'PHI' 'MIL' 'CIN' 'MIA' 'BOS' 'HOU'\n",
            " 'LAC' 'LAL' 'CLE' 'UTA' 'UTA' 'NYK' 'NJN' 'DEN' 'GSW' 'BOS' 'NYN' 'BOS'\n",
            " 'WA1' 'BOS' 'BOS' 'DAL' 'NYK' 'BA1' 'TOR' 'MIL' 'TOR' 'DAL']\n",
            "Accuracy  0.24778761061946902\n"
          ],
          "name": "stdout"
        }
      ]
    },
    {
      "cell_type": "code",
      "metadata": {
        "colab": {
          "base_uri": "https://localhost:8080/"
        },
        "id": "351-U88vzuNJ",
        "outputId": "4ec5949c-617b-45fd-a6db-455b8e0a3c13"
      },
      "source": [
        "#random forrest classifier\r\n",
        "\r\n",
        "clf1 = RandomForestClassifier()\r\n",
        "clf1.fit(x_train, y_train)"
      ],
      "execution_count": null,
      "outputs": [
        {
          "output_type": "execute_result",
          "data": {
            "text/plain": [
              "RandomForestClassifier(bootstrap=True, ccp_alpha=0.0, class_weight=None,\n",
              "                       criterion='gini', max_depth=None, max_features='auto',\n",
              "                       max_leaf_nodes=None, max_samples=None,\n",
              "                       min_impurity_decrease=0.0, min_impurity_split=None,\n",
              "                       min_samples_leaf=1, min_samples_split=2,\n",
              "                       min_weight_fraction_leaf=0.0, n_estimators=100,\n",
              "                       n_jobs=None, oob_score=False, random_state=None,\n",
              "                       verbose=0, warm_start=False)"
            ]
          },
          "metadata": {
            "tags": []
          },
          "execution_count": 38
        }
      ]
    },
    {
      "cell_type": "code",
      "metadata": {
        "colab": {
          "base_uri": "https://localhost:8080/"
        },
        "id": "cG7EA4PhzzG3",
        "outputId": "bd625fe6-a07d-48cf-b828-1a15a3d9743b"
      },
      "source": [
        "print(clf1.feature_importances_)"
      ],
      "execution_count": null,
      "outputs": [
        {
          "output_type": "stream",
          "text": [
            "[0.04953746 0.05049896 0.04913112 0.0451382  0.02569367 0.02385328\n",
            " 0.04626197 0.05294241 0.04897815 0.02592535 0.02209068 0.02983265\n",
            " 0.02655211 0.00510052 0.04807048 0.02765425 0.02747805 0.02939302\n",
            " 0.02984706 0.02329068 0.0234281  0.03041709 0.03243627 0.03139443\n",
            " 0.02533195 0.02356676 0.02412422 0.00410287 0.04784493 0.02102693\n",
            " 0.04905638]\n"
          ],
          "name": "stdout"
        }
      ]
    },
    {
      "cell_type": "code",
      "metadata": {
        "colab": {
          "base_uri": "https://localhost:8080/"
        },
        "id": "oyfh-emIzzdl",
        "outputId": "e437ce3c-e55b-4dfe-8440-18991f841ecf"
      },
      "source": [
        "pred = clf1.predict(x_test)\r\n",
        "print(pred)\r\n",
        "print(clf1.predict(x_test))\r\n",
        "print(metrics.accuracy_score(y_test, pred))"
      ],
      "execution_count": null,
      "outputs": [
        {
          "output_type": "stream",
          "text": [
            "['DET' 'IND' 'PHI' 'LAC' 'CHI' 'SAC' 'GSW' 'LAL' 'MIL' 'GSW' 'PHO' 'PH1'\n",
            " 'ATL' 'SAS' 'NYK' 'CHI' 'MIL' 'GSW' 'SEA' 'LAL' 'DET' 'LAL' 'MIA' 'ATL'\n",
            " 'SAS' 'NJN' 'SEA' 'HOU' 'DEN' 'BOS' 'DEN' 'PHI' 'UTA' 'CHI' 'POR' 'LAC'\n",
            " 'POR' 'MIA' 'PHO' 'PHO' 'CIN' 'DEN' 'POR' 'WA1' 'ATL' 'POR' 'NYN' 'ATL'\n",
            " 'HOU' 'CLE' 'PHI' 'DAL' 'CH1' 'DEN' 'GSW' 'LAL' 'SEA' 'PHI' 'BOS' 'CLE'\n",
            " 'CLE' 'CHI' 'SYR' 'CAR' 'MIL' 'PHO' 'CHI' 'DET' 'ATL' 'GSW' 'BOS' 'WA1'\n",
            " 'GSW' 'NJN' 'GSW' 'NYK' 'IND' 'CHI' 'VIR' 'FTW' 'BOS' 'MIL' 'LAC' 'HOU'\n",
            " 'CIN' 'CHI' 'MIL' 'DAL' 'CLE' 'SEA' 'LAL' 'UTS' 'PHI' 'STL' 'FTW' 'BAL'\n",
            " 'SAC' 'NYK' 'DET' 'CHI' 'CHI' 'WA1' 'SAS' 'ST1' 'DET' 'BUF' 'IND' 'DET'\n",
            " 'DET' 'ATL' 'CLE' 'DEN' 'DLC' 'CLE' 'CIN' 'HOU' 'SEA' 'PHO' 'ATL' 'BA1'\n",
            " 'UTA' 'KCK' 'IND' 'BA1' 'WSC' 'BAL' 'PHI' 'WA1' 'GSW' 'SYR' 'PHO' 'DET'\n",
            " 'MIN' 'GSW' 'LAC' 'PHI' 'GSW' 'DET' 'DET' 'SEA' 'WA1' 'UTA' 'PHO' 'NOJ'\n",
            " 'ROC' 'NYN' 'DET' 'CLE' 'CLE' 'SAS' 'GSW' 'FTW' 'HOU' 'BA1' 'NYK' 'HOU'\n",
            " 'PHI' 'CLE' 'LAL' 'UTA' 'CHI' 'PHO' 'CHA' 'DET' 'MEM' 'SAS' 'BOS' 'IND'\n",
            " 'FTW' 'NYN' 'BOS' 'CLE' 'SEA' 'HMV' 'LAL' 'PH1' 'LAL' 'ORL' 'CHI' 'POR'\n",
            " 'NJN' 'MIE' 'PHO' 'CHI' 'GSW' 'DAL' 'LAL' 'PHO' 'NYK' 'PH1' 'NOB' 'SYR'\n",
            " 'NJN' 'BAL' 'UTA' 'HOU' 'LAL' 'DET' 'NJN' 'MIL' 'CLE' 'MIL' 'WA1' 'HOU'\n",
            " 'DET' 'HOU' 'NYK' 'UTA' 'UTA' 'NOJ' 'NJN' 'LAL' 'GSW' 'PHI' 'NYN' 'NYK'\n",
            " 'PHI' 'WSC' 'TO1' 'LAC' 'DET' 'MI1' 'DEN' 'MIL' 'DEN' 'DAL']\n",
            "['DET' 'IND' 'PHI' 'LAC' 'CHI' 'SAC' 'GSW' 'LAL' 'MIL' 'GSW' 'PHO' 'PH1'\n",
            " 'ATL' 'SAS' 'NYK' 'CHI' 'MIL' 'GSW' 'SEA' 'LAL' 'DET' 'LAL' 'MIA' 'ATL'\n",
            " 'SAS' 'NJN' 'SEA' 'HOU' 'DEN' 'BOS' 'DEN' 'PHI' 'UTA' 'CHI' 'POR' 'LAC'\n",
            " 'POR' 'MIA' 'PHO' 'PHO' 'CIN' 'DEN' 'POR' 'WA1' 'ATL' 'POR' 'NYN' 'ATL'\n",
            " 'HOU' 'CLE' 'PHI' 'DAL' 'CH1' 'DEN' 'GSW' 'LAL' 'SEA' 'PHI' 'BOS' 'CLE'\n",
            " 'CLE' 'CHI' 'SYR' 'CAR' 'MIL' 'PHO' 'CHI' 'DET' 'ATL' 'GSW' 'BOS' 'WA1'\n",
            " 'GSW' 'NJN' 'GSW' 'NYK' 'IND' 'CHI' 'VIR' 'FTW' 'BOS' 'MIL' 'LAC' 'HOU'\n",
            " 'CIN' 'CHI' 'MIL' 'DAL' 'CLE' 'SEA' 'LAL' 'UTS' 'PHI' 'STL' 'FTW' 'BAL'\n",
            " 'SAC' 'NYK' 'DET' 'CHI' 'CHI' 'WA1' 'SAS' 'ST1' 'DET' 'BUF' 'IND' 'DET'\n",
            " 'DET' 'ATL' 'CLE' 'DEN' 'DLC' 'CLE' 'CIN' 'HOU' 'SEA' 'PHO' 'ATL' 'BA1'\n",
            " 'UTA' 'KCK' 'IND' 'BA1' 'WSC' 'BAL' 'PHI' 'WA1' 'GSW' 'SYR' 'PHO' 'DET'\n",
            " 'MIN' 'GSW' 'LAC' 'PHI' 'GSW' 'DET' 'DET' 'SEA' 'WA1' 'UTA' 'PHO' 'NOJ'\n",
            " 'ROC' 'NYN' 'DET' 'CLE' 'CLE' 'SAS' 'GSW' 'FTW' 'HOU' 'BA1' 'NYK' 'HOU'\n",
            " 'PHI' 'CLE' 'LAL' 'UTA' 'CHI' 'PHO' 'CHA' 'DET' 'MEM' 'SAS' 'BOS' 'IND'\n",
            " 'FTW' 'NYN' 'BOS' 'CLE' 'SEA' 'HMV' 'LAL' 'PH1' 'LAL' 'ORL' 'CHI' 'POR'\n",
            " 'NJN' 'MIE' 'PHO' 'CHI' 'GSW' 'DAL' 'LAL' 'PHO' 'NYK' 'PH1' 'NOB' 'SYR'\n",
            " 'NJN' 'BAL' 'UTA' 'HOU' 'LAL' 'DET' 'NJN' 'MIL' 'CLE' 'MIL' 'WA1' 'HOU'\n",
            " 'DET' 'HOU' 'NYK' 'UTA' 'UTA' 'NOJ' 'NJN' 'LAL' 'GSW' 'PHI' 'NYN' 'NYK'\n",
            " 'PHI' 'WSC' 'TO1' 'LAC' 'DET' 'MI1' 'DEN' 'MIL' 'DEN' 'DAL']\n",
            "0.3008849557522124\n"
          ],
          "name": "stdout"
        }
      ]
    },
    {
      "cell_type": "code",
      "metadata": {
        "id": "NQxVmOskci6l"
      },
      "source": [
        "#games\r\n",
        "games = ['PHX1 vs SAS2', 'DET1 vs PHI2', 'MIN1 vs BOS2', 'NY1 vs MIA2', 'TOR1 vs MIL2', 'CHI1 vs DAL2', 'UTA1 vs DEN2', 'WSH1 vs MEM2', 'ATL1 vs POR2', 'CHA1 vs LAL2']\r\n",
        "\r\n",
        "g1 = [[101.3, 111.9, 22.3, 15.9, 11.3, 87.1, 108.4, 106.7, 18.7, 14.4, 10.3, 86.0,103.4, 109.8, 18.0, 13.2, 10.3, 84.8, 102.2, 108.0, 20.8, 15.3, 10.8, 86.0,105.9, 105.4, 22.1, 13.9, 9.4, 86.5,20.1]]\r\n",
        "g2 = [[108.4, 106.7, 18.7, 14.4, 10.3, 86.0]]\r\n",
        "g3 = [[103.4, 109.8, 18.0, 13.2, 10.3, 84.8]]\r\n",
        "g4 = [[102.2, 108.0, 20.8, 15.3, 10.8, 86.0]]\r\n",
        "g5 = [[105.9, 105.4, 22.1, 13.9, 9.4, 86.5]]\r\n",
        "g6 = [[101.6, 108.7, 19.2, 13.8, 9.4, 88.6]]\r\n",
        "g7 = [[107.9, 106.8, 20.1, 14.4, 8.4, 82.4]]\r\n",
        "g8 = [[98.9, 106.4, 21.7, 13.7, 9.9, 86.1]]\r\n",
        "g9 = [[102.5, 110.9, 19.7, 15.5, 9.5, 84.7]]\r\n",
        "g10 = [[106.7, 107.4, 18.1, 13.1, 10.5, 86.4]]"
      ],
      "execution_count": null,
      "outputs": []
    },
    {
      "cell_type": "code",
      "metadata": {
        "colab": {
          "base_uri": "https://localhost:8080/"
        },
        "id": "svngacsbdEp_",
        "outputId": "57e94bf0-cc5c-40bc-f074-5f7891cf8594"
      },
      "source": [
        "pred1 = clf1.predict(g1)\r\n",
        "clf1.predict_proba(g1)\r\n",
        "\r\n",
        "\r\n",
        "print(pred1)\r\n",
        "print(\"**************************************************************************\")\r\n",
        "print(clf1.predict_proba(g1))"
      ],
      "execution_count": null,
      "outputs": [
        {
          "output_type": "stream",
          "text": [
            "['DEN']\n",
            "**************************************************************************\n",
            "[[0.   0.01 0.   0.   0.06 0.01 0.   0.   0.   0.   0.   0.   0.   0.\n",
            "  0.04 0.   0.31 0.   0.   0.   0.   0.   0.11 0.   0.   0.   0.   0.\n",
            "  0.   0.   0.03 0.08 0.01 0.   0.   0.   0.   0.   0.01 0.01 0.   0.\n",
            "  0.   0.   0.   0.   0.02 0.   0.   0.04 0.02 0.   0.   0.   0.   0.04\n",
            "  0.02 0.   0.02 0.   0.01 0.   0.   0.   0.06 0.   0.   0.   0.01 0.\n",
            "  0.   0.   0.   0.   0.04 0.   0.   0.   0.01 0.   0.   0.02 0.   0.01\n",
            "  0.   0.   0.  ]]\n"
          ],
          "name": "stdout"
        }
      ]
    },
    {
      "cell_type": "code",
      "metadata": {
        "id": "m-UFy0hvxrdZ"
      },
      "source": [
        ""
      ],
      "execution_count": null,
      "outputs": []
    }
  ]
}